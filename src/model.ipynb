{
 "cells": [
  {
   "cell_type": "code",
   "execution_count": 1,
   "metadata": {},
   "outputs": [],
   "source": [
    "import pulp\n",
    "import pandas as pd\n",
    "import init_data"
   ]
  },
  {
   "cell_type": "code",
   "execution_count": 2,
   "metadata": {},
   "outputs": [],
   "source": [
    "# データの読み込み\n",
    "S, I, V, P, T, t,b, C, K = init_data.load_data()\n",
    "b = {key: 1 - value for key, value in b.items()}\n",
    "# 問題の定義\n",
    "prob = pulp.LpProblem('karaoke', pulp.LpMaximize)\n",
    "# 変数の定義\n",
    "x = pulp.LpVariable.dicts('x', [(i,s,k)for i in I for s in S for k in K], cat='Binary')\n",
    "y = pulp.LpVariable.dicts('y', [k for k in K], cat='Binary')\n",
    "# 目的関数の定義\n",
    "prob += pulp.lpSum([V[(i,s)]*x[(i,s,k)] for i in I for s in S for k in K])*100 + pulp.lpSum([x[(i,s,k)] for i in I for s in C for k in K])*2000 - pulp.lpSum([y[k] for k in K])*1\n",
    "# 制約条件の定義 \n",
    "# 1. 1つの番目の人は1回に1曲しか歌えない\n",
    "for k in K:\n",
    "    prob += pulp.lpSum([x[(i,s,k)] for i in I for s in S]) <= 1\n",
    "# 2. 順番が若い順になる\n",
    "for k in K:\n",
    "    if k != K[-1]:\n",
    "        prob += pulp.lpSum([x[(i,s,k)] for i in I for s in S]) >= pulp.lpSum([x[(i,s,k+1)] for i in I for s in S])\n",
    "# 3.時間内に収める\n",
    "prob += pulp.lpSum([t[s]*x[(i,s,k)] for i in I for s in S for k in K]) <= T\n",
    "# # 4. 交互に歌う\n",
    "for i in I:\n",
    "    for k in K:\n",
    "        if k != K[-1]:\n",
    "            prob += pulp.lpSum([x[(i,s,k)] for s in S]) + pulp.lpSum([x[(i,s,k+1)] for s in S])<=1\n",
    "# #5. 二人で同じ曲は二回歌えない\n",
    "for s in S:\n",
    "    prob += pulp.lpSum([x[(i,s,k)] for i in I for k in K]) <= 1\n",
    "#6. 共通の場合、歌ってる回数が多いほうが歌う\n",
    "for s in C:\n",
    "    if P[(1,s)] >= P[(2,s)]:\n",
    "        prob += pulp.lpSum([x[(1,s,k)] for k in K]) >= pulp.lpSum([x[(2,s,k)] for k in K])\n",
    "    else:\n",
    "        prob += pulp.lpSum([x[(2,s,k)] for k in K]) >= pulp.lpSum([x[(1,s,k)] for k in K])\n",
    "#7. 明はできるだけ連続\n",
    "for k in K:\n",
    "    if k != K[-1]:\n",
    "        prob += y[k] >= pulp.lpSum(b[s]*[x[(i,s,k)] for i in I for s in S]) - pulp.lpSum([b[s]*x[(i,s,k+1)] for i in I for s in S])\n",
    "        prob += y[k] >= pulp.lpSum([b[s]*x[(i,s,k+1)] for i in I for s in S]) - pulp.lpSum([b[s]*x[(i,s,k)] for i in I for s in S])\n",
    "        prob += y[k] <= pulp.lpSum(b[s]*[x[(i,s,k)] for i in I for s in S]) + pulp.lpSum([b[s]*x[(i,s,k+1)] for i in I for s in S])\n",
    "        prob += y[k] <= 2 - pulp.lpSum(b[s]*[x[(i,s,k)] for i in I for s in S]) - pulp.lpSum([b[s]*x[(i,s,k+1)] for i in I for s in S])\n",
    "\n",
    "#8. 最初が明るい曲\n",
    "prob += pulp.lpSum([b[s]*x[(i,s,1)] for i in I for s in S]) == 0\n",
    "#9. 失恋ソング禁止\n",
    "#10. で故っと局いっきょくはいれる\n"
   ]
  },
  {
   "cell_type": "code",
   "execution_count": 3,
   "metadata": {},
   "outputs": [
    {
     "name": "stdout",
     "output_type": "stream",
     "text": [
      "Optimal\n",
      "1:0:1回目:フライデーナイト\n",
      "2:0:2回目:世界に一つだけの花\n",
      "1:1:3回目:プレタポルテ\n",
      "2:0:4回目:恋ダンス\n",
      "1:1:5回目:涙そうそう\n",
      "2:1:6回目:366日\n",
      "1:1:7回目:春よ、来い\n",
      "2:1:8回目:君が代\n",
      "1:1:9回目:上を向いて歩こう\n",
      "2:0:10回目:恋するフォーチュンクッキー\n",
      "1:1:11回目:サイレントマジョリティー\n",
      "2:1:12回目:GReeeeN\n",
      "1:1:13回目:シャイニング・オン君が哀しい\n",
      "2:0:14回目:プライバシー\n",
      "1:0:15回目:ツバサをください\n",
      "合計時間は59.5分です\n",
      "共通の曲は10曲です\n"
     ]
    }
   ],
   "source": [
    "#求解\n",
    "solve =prob.solve()\n",
    "print(pulp.LpStatus[solve])\n",
    "sumtime =0\n",
    "sumc = 0\n",
    "#結果の表示\n",
    "for k in K:\n",
    "    for i in I:\n",
    "        for s in S:\n",
    "            if x[(i,s,k)].value() == 1:\n",
    "                sumtime += t[s]\n",
    "                if s in C:\n",
    "                    sumc += 1\n",
    "                print(f\"{i}:{b[s]}:{k}回目:{s}\")\n",
    "print(f\"合計時間は{sumtime}分です\")\n",
    "print(f\"共通の曲は{sumc}曲です\")"
   ]
  },
  {
   "cell_type": "code",
   "execution_count": null,
   "metadata": {},
   "outputs": [],
   "source": []
  }
 ],
 "metadata": {
  "kernelspec": {
   "display_name": "Python 3",
   "language": "python",
   "name": "python3"
  },
  "language_info": {
   "codemirror_mode": {
    "name": "ipython",
    "version": 3
   },
   "file_extension": ".py",
   "mimetype": "text/x-python",
   "name": "python",
   "nbconvert_exporter": "python",
   "pygments_lexer": "ipython3",
   "version": "3.11.4"
  },
  "orig_nbformat": 4
 },
 "nbformat": 4,
 "nbformat_minor": 2
}
