{
 "cells": [
  {
   "cell_type": "code",
   "execution_count": 1,
   "metadata": {},
   "outputs": [],
   "source": [
    "import pulp\n",
    "import pandas as pd\n",
    "import init_data"
   ]
  },
  {
   "cell_type": "code",
   "execution_count": 4,
   "metadata": {},
   "outputs": [],
   "source": [
    "# データの読み込み\n",
    "S, I, V, P, T, t, C, K = init_data.load_data()\n",
    "# 問題の定義\n",
    "prob = pulp.LpProblem('karaoke', pulp.LpMaximize)\n",
    "# 変数の定義\n",
    "x = pulp.LpVariable.dicts('x', [(i,s,k)for i in I for s in S for k in K], cat='Binary')\n",
    "# 目的関数の定義\n",
    "prob += pulp.lpSum([V[(i,s)]*x[(i,s,k)] for i in I for s in S for k in K]) + pulp.lpSum([x[(i,s,k)] for i in I for s in C for k in K])*100\n",
    "# 制約条件の定義 \n",
    "# 1. 1つの番目の人は1回に1曲しか歌えない\n",
    "for k in K:\n",
    "    prob += pulp.lpSum([x[(i,s,k)] for i in I for s in S]) <= 1\n",
    "# 2. 順番が若い順になる\n",
    "for k in K:\n",
    "    if k != K[-1]:\n",
    "        prob += pulp.lpSum([x[(i,s,k)] for i in I for s in S]) >= pulp.lpSum([x[(i,s,k+1)] for i in I for s in S])\n",
    "# 3.時間内に収める\n",
    "prob += pulp.lpSum([t[s]*x[(i,s,k)] for i in I for s in S for k in K]) <= T\n",
    "# # 4. 交互に歌う\n",
    "for i in I:\n",
    "    for k in K:\n",
    "        if k != K[-1]:\n",
    "            prob += pulp.lpSum([x[(i,s,k)] for s in S]) + pulp.lpSum([x[(i,s,k+1)] for s in S])<=1\n",
    "# #5. 二人で同じ曲は二回歌えない\n",
    "for s in S:\n",
    "    prob += pulp.lpSum([x[(i,s,k)] for i in I for k in K]) <= 1\n",
    "#6. 共通の場合、歌ってる回数が多いほうが歌う\n",
    "for s in C:\n",
    "    if P[(1,s)] >= P[(2,s)]:\n",
    "        prob += pulp.lpSum([x[(1,s,k)] for k in K]) >= pulp.lpSum([x[(2,s,k)] for k in K])\n",
    "    else:\n",
    "        prob += pulp.lpSum([x[(2,s,k)] for k in K]) >= pulp.lpSum([x[(1,s,k)] for k in K])\n",
    "#7. 明はできるだけ連続\n",
    "#8. 相手がその歌の歌手の歌を歌った回数が多ければ、共通でなくても歌う"
   ]
  },
  {
   "cell_type": "code",
   "execution_count": 5,
   "metadata": {},
   "outputs": [
    {
     "name": "stdout",
     "output_type": "stream",
     "text": [
      "Optimal\n",
      "1さんは1回目にフライデーナイトを歌う\n",
      "2さんは2回目に366日を歌う\n",
      "1さんは3回目に春よ、来いを歌う\n",
      "2さんは4回目に君が代を歌う\n",
      "1さんは5回目に涙そうそうを歌う\n",
      "2さんは6回目に恋するフォーチュンクッキーを歌う\n",
      "1さんは7回目にプレタポルテを歌う\n",
      "2さんは8回目に世界に一つだけの花を歌う\n",
      "1さんは9回目にシャイニング・オン君が哀しいを歌う\n",
      "2さんは10回目に恋ダンスを歌う\n",
      "1さんは11回目に上を向いて歩こうを歌う\n",
      "2さんは12回目にプライバシーを歌う\n",
      "1さんは13回目にサイレントマジョリティーを歌う\n",
      "2さんは14回目にGReeeeNを歌う\n",
      "1さんは15回目にツバサをくださいを歌う\n",
      "合計時間は59.50000000000001分です\n",
      "共通の曲は10曲です\n"
     ]
    }
   ],
   "source": [
    "#求解\n",
    "solve =prob.solve()\n",
    "print(pulp.LpStatus[solve])\n",
    "sumtime =0\n",
    "sumc = 0\n",
    "#結果の表示\n",
    "for k in K:\n",
    "    for i in I:\n",
    "        for s in S:\n",
    "            if x[(i,s,k)].value() == 1:\n",
    "                sumtime += t[s]\n",
    "                if s in C:\n",
    "                    sumc += 1\n",
    "                print(f\"{i}さんは{k}回目に{s}を歌う\")\n",
    "print(f\"合計時間は{sumtime}分です\")\n",
    "print(f\"共通の曲は{sumc}曲です\")"
   ]
  },
  {
   "cell_type": "code",
   "execution_count": 10,
   "metadata": {},
   "outputs": [
    {
     "name": "stdout",
     "output_type": "stream",
     "text": [
      "59.2\n"
     ]
    }
   ],
   "source": [
    "print(sumtime)"
   ]
  },
  {
   "cell_type": "code",
   "execution_count": null,
   "metadata": {},
   "outputs": [],
   "source": []
  }
 ],
 "metadata": {
  "kernelspec": {
   "display_name": "Python 3",
   "language": "python",
   "name": "python3"
  },
  "language_info": {
   "codemirror_mode": {
    "name": "ipython",
    "version": 3
   },
   "file_extension": ".py",
   "mimetype": "text/x-python",
   "name": "python",
   "nbconvert_exporter": "python",
   "pygments_lexer": "ipython3",
   "version": "3.11.3"
  },
  "orig_nbformat": 4
 },
 "nbformat": 4,
 "nbformat_minor": 2
}
